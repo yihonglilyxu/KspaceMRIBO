{
 "cells": [
  {
   "cell_type": "code",
   "execution_count": 4,
   "metadata": {
    "colab": {
     "base_uri": "https://localhost:8080/"
    },
    "executionInfo": {
     "elapsed": 26314,
     "status": "ok",
     "timestamp": 1663958198909,
     "user": {
      "displayName": "Yihong Xu",
      "userId": "04420018422764581633"
     },
     "user_tz": 240
    },
    "id": "mh3K6DJJORuG",
    "outputId": "184e589e-1b80-49bd-c7e0-e94fd20999f5"
   },
   "outputs": [],
   "source": [
    "import os\n",
    "#os.chdir('/content/drive/MyDrive/MRI/MRI_Project/Bayesian_256')\n",
    "\n",
    "import torch\n",
    "import torch.fft\n",
    "import torchvision\n",
    "import torchvision.transforms as transforms\n",
    "import torchvision.datasets as datasets\n",
    "import os\n",
    "import matplotlib.pyplot as plt\n",
    "import numpy as np\n",
    "import random \n",
    "from torchvision.datasets import ImageFolder\n",
    "import re\n",
    "from torch.utils.data import Dataset, DataLoader\n",
    "import h5py\n",
    "import math\n",
    "#import fastmri \n",
    "#from fastmri.fftc import fft2c_new, ifft2c_new\n",
    "#from fastmri.math import complex_abs\n",
    "\n",
    "#import deepbrainnew\n",
    "#from deepbrainnew import Extractor\n",
    "#import nibabel as nib"
   ]
  },
  {
   "cell_type": "code",
   "execution_count": 2,
   "metadata": {
    "id": "2Lh2FmhGfhm3"
   },
   "outputs": [],
   "source": [
    "class MRIDataset_h5(torch.utils.data.Dataset):\n",
    "    def __init__(self, in_file, mode = None):\n",
    "        super(MRIDataset_h5, self).__init__()\n",
    "        self.mode = mode\n",
    "        self.file = h5py.File(in_file, 'r')\n",
    "        self.n_images = len(self.file.keys())\n",
    "\n",
    "    def __len__(self):\n",
    "        \n",
    "        return self.n_images\n",
    "    \n",
    "    def __getitem__(self, index):\n",
    "        input = self.file[str(index)][()]\n",
    "        \n",
    "        if self.mode == 'real_imag':\n",
    "            pass\n",
    "        \n",
    "        elif self.mode == 'mag_phase': \n",
    "            input = torch.view_as_complex(torch.from_numpy(input))\n",
    "            input = torch.stack([input.abs(),input.angle()],dim = 2)\n",
    "         \n",
    "        assert self.mode != None\n",
    "        \n",
    "        return input"
   ]
  },
  {
   "cell_type": "code",
   "execution_count": 47,
   "metadata": {
    "colab": {
     "base_uri": "https://localhost:8080/"
    },
    "executionInfo": {
     "elapsed": 42015,
     "status": "ok",
     "timestamp": 1663958302110,
     "user": {
      "displayName": "Yihong Xu",
      "userId": "04420018422764581633"
     },
     "user_tz": 240
    },
    "id": "2dYXsnZEE_bz",
    "outputId": "9297a629-db85-45f8-94a2-b6a599f3cb9e"
   },
   "outputs": [
    {
     "name": "stdout",
     "output_type": "stream",
     "text": [
      "6391\n",
      "1000\n"
     ]
    }
   ],
   "source": [
    "size = 256\n",
    "w = 48\n",
    "dataset1 = MRIDataset_h5(in_file = '../IXI_data/IXI_T1_h5/t1_val_256.h5',mode = 'mag_phase')\n",
    "dataset2 = MRIDataset_h5(in_file = '../IXI_data/IXI_T1_h5/t1_test_256.h5',mode = 'mag_phase')\n",
    "print(len(dataset1))\n",
    "print(len(dataset2))\n",
    "device = \"cuda\" if torch.cuda.is_available() else \"cpu\"\n",
    "kwargs = {'num_workers': 1, 'pin_memory': True} if device=='cuda' else {}\n",
    "\n",
    "bs = 10\n",
    "\n",
    "train_loader1 = DataLoader(dataset1, batch_size=bs, drop_last=False, shuffle=False,**kwargs)\n",
    "train_loader2 = DataLoader(dataset2, batch_size=bs, drop_last=False, shuffle=False,**kwargs)"
   ]
  },
  {
   "cell_type": "markdown",
   "metadata": {
    "id": "TCG7ZR-xyIR_"
   },
   "source": [
    "## Real and Imaginary ###"
   ]
  },
  {
   "cell_type": "markdown",
   "metadata": {},
   "source": [
    "### RUN ###"
   ]
  },
  {
   "cell_type": "code",
   "execution_count": null,
   "metadata": {
    "colab": {
     "base_uri": "https://localhost:8080/",
     "height": 392
    },
    "executionInfo": {
     "elapsed": 1786,
     "status": "error",
     "timestamp": 1662315234630,
     "user": {
      "displayName": "Yihong Xu",
      "userId": "04420018422764581633"
     },
     "user_tz": 240
    },
    "id": "CbiW8hrtrVgf",
    "outputId": "eb8d6ef2-5f1d-48dd-c3a9-10e762aa518e"
   },
   "outputs": [],
   "source": [
    "##real and imaginary\n",
    " \n",
    "realall = torch.tensor([])\n",
    "imagall = torch.tensor([])\n",
    "for index, image in enumerate(train_loader1):  \n",
    "\n",
    "    real = ((image[:,:,:,0])[:,w:size-w,:])[:,:,w:size-w].reshape(bs,(size-2*w)*(size-2*w)).T\n",
    "    imag = ((image[:,:,:,1])[:,w:size-w,:])[:,:,w:size-w].reshape(bs,(size-2*w)*(size-2*w)).T\n",
    "    realall = torch.cat([realall,real],1)\n",
    "    imagall = torch.cat([imagall,imag],1)\n",
    "#    print(realall.size())\n",
    "    if index%10 == 0:   \n",
    "        print(index) \n",
    "        \n",
    "#for index, image in enumerate(train_loader2):  \n",
    "#    real = ((image[:,:,:,0])[:,w:size-w,:])[:,:,w:size-w].reshape(bs,(size-2*w)*(size-2*w)).T\n",
    "#    imag = ((image[:,:,:,1])[:,w:size-w,:])[:,:,w:size-w].reshape(bs,(size-2*w)*(size-2*w)).T\n",
    "#    realall = torch.cat([realall,real],1)\n",
    "#    imagall = torch.cat([imagall,imag],1)\n",
    "#    if index%10 == 0: \n",
    "#        print(index)"
   ]
  },
  {
   "cell_type": "code",
   "execution_count": 7,
   "metadata": {
    "colab": {
     "base_uri": "https://localhost:8080/",
     "height": 392
    },
    "executionInfo": {
     "elapsed": 1786,
     "status": "error",
     "timestamp": 1662315234630,
     "user": {
      "displayName": "Yihong Xu",
      "userId": "04420018422764581633"
     },
     "user_tz": 240
    },
    "id": "CbiW8hrtrVgf",
    "outputId": "eb8d6ef2-5f1d-48dd-c3a9-10e762aa518e"
   },
   "outputs": [
    {
     "name": "stdout",
     "output_type": "stream",
     "text": [
      "torch.Size([25600, 3446])\n"
     ]
    }
   ],
   "source": [
    "realall = realall[:,:3446]\n",
    "imagall = imagall[:,:3446]\n",
    "  \n",
    "print(realall.size())\n",
    "torch.save(realall,'./brain_stats/real_all_3446.pt')\n",
    "torch.save(imagall,'./brain_stats/imag_all_3446.pt')\n",
    "torch.save(torch.mean(realall,axis = 1).view(size-2*w,size-2*w),'./brain_stats/train_realmean_3446.pt')\n",
    "torch.save(torch.mean(imagall,axis = 1).view(size-2*w,size-2*w),'./brain_stats/train_imagmean_3446.pt')"
   ]
  },
  {
   "cell_type": "code",
   "execution_count": 22,
   "metadata": {},
   "outputs": [],
   "source": [
    "realall = torch.load('./brain_stats/real_all_6822.pt')\n",
    "imagall = torch.load('./brain_stats/imag_all_6822.pt')"
   ]
  },
  {
   "cell_type": "code",
   "execution_count": 10,
   "metadata": {
    "id": "SKeoqEEk5hNN"
   },
   "outputs": [],
   "source": [
    "load = False\n",
    "if load == False:\n",
    "  realcov = torch.cov(realall)\n",
    "  torch.save(realcov,'./brain_stats/real_cov-48.pt')\n",
    "  imagcov = torch.cov(imagall)\n",
    "  torch.save(imagcov,'./brain_stats/imag_cov-48.pt')\n",
    " # realcov = torch.zeros(64**2,64**2)\n",
    " # imagcov = torch.zeros(64**2,64**2)\n",
    "\n",
    " # for i in range(64*64):\n",
    " #   for j in range(64*64):\n",
    " #     realcov[i,j] = torch.mean(realall[i,:]-realmean[i,0])*(realmean[j,:]-realmean[j,0])\n",
    " #     imagcov[i,j] = torch.mean(imagall[i,:]-imagmean[i,0])*(imagmean[j,:]-imagmean[j,0])\n",
    " #   if i%10 ==0:\n",
    " #     print(i)\n",
    "\n",
    " # torch.save(realcov,'./brain_stats/real_cov_cal.pt')\n",
    " # torch.save(imagcov,'./brain_stats/imag_cov_cal.pt')\n",
    "\n",
    "else: \n",
    "  realcov = torch.load('./brain_stats/real_cov.pt')\n",
    "  imagcov = torch.load('./brain_stats/imag_cov.pt')"
   ]
  },
  {
   "cell_type": "markdown",
   "metadata": {
    "id": "5zKYkGhcpZki"
   },
   "source": [
    "### Real and Imaginary part normalized by the average magnitude ###"
   ]
  },
  {
   "cell_type": "code",
   "execution_count": 34,
   "metadata": {
    "colab": {
     "base_uri": "https://localhost:8080/"
    },
    "executionInfo": {
     "elapsed": 11518,
     "status": "ok",
     "timestamp": 1663958760954,
     "user": {
      "displayName": "Yihong Xu",
      "userId": "04420018422764581633"
     },
     "user_tz": 240
    },
    "id": "_kV1dC_oqPAb",
    "outputId": "bbb2a24b-7a9f-4511-fa81-d8379b42af5b"
   },
   "outputs": [
    {
     "name": "stdout",
     "output_type": "stream",
     "text": [
      "torch.Size([25600])\n"
     ]
    }
   ],
   "source": [
    "magmean = torch.load('./brain_stats/train_magmean_6822.pt').reshape(160**2)\n",
    "realall = torch.load('./brain_stats/real_all_6822.pt')\n",
    "imagall = torch.load('./brain_stats/imag_all_6822.pt')\n",
    "print(magmean.size())"
   ]
  },
  {
   "cell_type": "code",
   "execution_count": 35,
   "metadata": {},
   "outputs": [
    {
     "name": "stdout",
     "output_type": "stream",
     "text": [
      "torch.Size([25600, 6822])\n",
      "torch.Size([25600])\n"
     ]
    }
   ],
   "source": [
    "print(realall.size())\n",
    "print(magmean.size())\n"
   ]
  },
  {
   "cell_type": "code",
   "execution_count": 37,
   "metadata": {
    "colab": {
     "base_uri": "https://localhost:8080/"
    },
    "executionInfo": {
     "elapsed": 218084,
     "status": "ok",
     "timestamp": 1663959082737,
     "user": {
      "displayName": "Yihong Xu",
      "userId": "04420018422764581633"
     },
     "user_tz": 240
    },
    "id": "jXV4UDz6pY8T",
    "outputId": "b4e46085-bb63-433a-d6f0-36d9f36a0b4a"
   },
   "outputs": [
    {
     "name": "stdout",
     "output_type": "stream",
     "text": [
      "torch.Size([25600, 25600])\n"
     ]
    }
   ],
   "source": [
    "realall_nor = torch.cov((realall/magmean.view(-1,1)))\n",
    "imagall_nor = torch.cov((imagall/magmean.view(-1,1)))\n",
    "print(realall_nor.size())\n",
    "\n",
    "torch.save(realall_nor,'./brain_stats/real_cov_6822_nor.pt')\n",
    "torch.save(imagall_nor,'./brain_stats/imag_cov_6822_nor.pt')"
   ]
  },
  {
   "cell_type": "markdown",
   "metadata": {
    "id": "rxaiDx-ByLw4"
   },
   "source": [
    "## Magnitude and Phase ##"
   ]
  },
  {
   "cell_type": "code",
   "execution_count": 54,
   "metadata": {
    "id": "aL58Un6_yN7t",
    "scrolled": true
   },
   "outputs": [
    {
     "name": "stdout",
     "output_type": "stream",
     "text": [
      "0\n",
      "10\n",
      "20\n",
      "30\n",
      "40\n",
      "50\n",
      "60\n",
      "70\n",
      "80\n",
      "90\n",
      "99\n"
     ]
    }
   ],
   "source": [
    "magall = torch.tensor([])\n",
    "for index, image in enumerate(train_loader1):  \n",
    "    mag = ((image[:,:,:,0])[:,w:size-w,:])[:,:,w:size-w].reshape(image.size(0),(size-2*w)*(size-2*w)).T\n",
    "    magall = torch.cat([magall,mag],1)\n",
    "    if index%10 == 0: \n",
    "        print(index) \n",
    "\n",
    "for index, image in enumerate(train_loader2):  \n",
    "    mag = ((image[:,:,:,0])[:,w:size-w,:])[:,:,w:size-w].reshape(image.size(0),(size-2*w)*(size-2*w)).T\n",
    "    magall = torch.cat([magall,mag],1)\n",
    "    if index%10 == 0: \n",
    "        print(index)\n",
    "            \n",
    "magall = magall[:,:6822]\n",
    "print(index) \n",
    "            \n",
    "magmean = torch.mean(magall,dim = 1).view(-1,1)\n",
    "\n",
    "torch.save(magall,'./brain_stats/mag_all_6822.pt')\n",
    "#torch.save(magmean.view(size - 2*w,size - 2*w),'./brain_stats/train_magmean_6822.pt')    \n",
    "\n",
    "  "
   ]
  },
  {
   "cell_type": "code",
   "execution_count": null,
   "metadata": {},
   "outputs": [],
   "source": [
    "magall = torch.load('./brain_stats/mag_all-48.pt')\n",
    "phaseall = torch.load('./brain_stats/phase_all-48.pt')\n",
    "magmean = torch.load('./brain_stats/train_magmean-48.pt')\n",
    "phasemean = torch.load('./brain_stats/train_phasemean-48.pt')"
   ]
  },
  {
   "cell_type": "code",
   "execution_count": null,
   "metadata": {
    "colab": {
     "base_uri": "https://localhost:8080/",
     "height": 266
    },
    "executionInfo": {
     "elapsed": 450,
     "status": "ok",
     "timestamp": 1662315264666,
     "user": {
      "displayName": "Yihong Xu",
      "userId": "04420018422764581633"
     },
     "user_tz": 240
    },
    "id": "xD1ZIMZU3JCw",
    "outputId": "ccaaebb0-3b2d-4bab-e5c4-f546b4d581e9"
   },
   "outputs": [
    {
     "data": {
      "text/plain": [
       "<matplotlib.colorbar.Colorbar at 0x7efe165c10d0>"
      ]
     },
     "execution_count": 7,
     "metadata": {},
     "output_type": "execute_result"
    },
    {
     "data": {
      "image/png": "[encoded data removed]",
      "text/plain": [
       "<Figure size 432x288 with 4 Axes>"
      ]
     },
     "metadata": {
      "needs_background": "light"
     },
     "output_type": "display_data"
    }
   ],
   "source": [
    "plt.subplot(1,2,1)\n",
    "plt.imshow(phasemean.view(size - 2*w,size - 2*w))\n",
    "plt.axis('off')\n",
    "plt.colorbar()\n",
    "plt.subplot(1,2,2)\n",
    "plt.imshow(torch.log(magmean.view(size - 2*w,size - 2*w)))\n",
    "plt.axis('off')\n",
    "plt.colorbar()\n"
   ]
  },
  {
   "cell_type": "markdown",
   "metadata": {
    "id": "pxWVx8NvuB3Q"
   },
   "source": [
    "### without normalization in maginitude ###"
   ]
  },
  {
   "cell_type": "code",
   "execution_count": null,
   "metadata": {
    "id": "EpxWp1qH5Wie"
   },
   "outputs": [],
   "source": [
    "magcov = torch.load('./brain_stats/mag_cov-48.pt')\n",
    "phasecov = torch.load('./brain_stats/phase_cov-48.pt')\n",
    "phasecov_cal = torch.load('./brain_stats/phase_cov_cal-48.pt')"
   ]
  },
  {
   "cell_type": "code",
   "execution_count": null,
   "metadata": {
    "id": "66_6f9OsTM6Q"
   },
   "outputs": [],
   "source": [
    "delphase = phaseall - phasemean.view(-1,1)\n",
    "ind1pos = ((delphase) > torch.pi)\n",
    "ind1neg = ((delphase) < - torch.pi)\n",
    "delphase[ind1pos] = delphase[ind1pos] - 2*torch.pi\n",
    "delphase[ind1neg] = delphase[ind1neg] + 2*torch.pi\n",
    "\n",
    "phasecov_cal = torch.zeros((size - 2*w)**2,(size - 2*w)**2)"
   ]
  },
  {
   "cell_type": "code",
   "execution_count": null,
   "metadata": {
    "colab": {
     "base_uri": "https://localhost:8080/"
    },
    "executionInfo": {
     "elapsed": 5011990,
     "status": "ok",
     "timestamp": 1662263990053,
     "user": {
      "displayName": "Yihong Xu",
      "userId": "04420018422764581633"
     },
     "user_tz": 240
    },
    "id": "jFy4Jelc5oyS",
    "outputId": "72321440-ed19-4a81-c2a6-253cf8caf44c"
   },
   "outputs": [
    {
     "name": "stdout",
     "output_type": "stream",
     "text": [
      "10\n",
      "20\n",
      "30\n",
      "40\n",
      "50\n",
      "60\n",
      "70\n",
      "80\n",
      "90\n",
      "100\n",
      "110\n",
      "120\n",
      "130\n",
      "140\n",
      "150\n",
      "160\n",
      "170\n",
      "180\n",
      "190\n",
      "200\n",
      "210\n",
      "220\n",
      "230\n",
      "240\n",
      "250\n",
      "260\n",
      "270\n",
      "280\n",
      "290\n",
      "300\n",
      "310\n",
      "320\n",
      "330\n",
      "340\n",
      "350\n",
      "360\n",
      "370\n",
      "380\n",
      "390\n",
      "400\n",
      "410\n",
      "420\n",
      "430\n",
      "440\n",
      "450\n",
      "460\n",
      "470\n",
      "480\n",
      "490\n",
      "500\n",
      "510\n",
      "520\n",
      "530\n",
      "540\n",
      "550\n",
      "560\n",
      "570\n",
      "580\n",
      "590\n",
      "600\n",
      "610\n",
      "620\n",
      "630\n",
      "640\n",
      "650\n",
      "660\n",
      "670\n",
      "680\n",
      "690\n",
      "700\n",
      "710\n",
      "720\n",
      "730\n",
      "740\n",
      "750\n",
      "760\n",
      "770\n",
      "780\n",
      "790\n",
      "800\n",
      "810\n",
      "820\n",
      "830\n",
      "840\n",
      "850\n",
      "860\n",
      "870\n",
      "880\n",
      "890\n",
      "900\n",
      "910\n",
      "920\n",
      "930\n",
      "940\n",
      "950\n",
      "960\n",
      "970\n",
      "980\n",
      "990\n",
      "1000\n",
      "1010\n",
      "1020\n",
      "1030\n",
      "1040\n",
      "1050\n",
      "1060\n",
      "1070\n",
      "1080\n",
      "1090\n",
      "1100\n",
      "1110\n",
      "1120\n",
      "1130\n",
      "1140\n",
      "1150\n",
      "1160\n",
      "1170\n",
      "1180\n",
      "1190\n",
      "1200\n",
      "1210\n",
      "1220\n",
      "1230\n",
      "1240\n",
      "1250\n",
      "1260\n",
      "1270\n",
      "1280\n",
      "1290\n",
      "1300\n",
      "1310\n",
      "1320\n",
      "1330\n",
      "1340\n",
      "1350\n",
      "1360\n",
      "1370\n",
      "1380\n",
      "1390\n",
      "1400\n",
      "1410\n",
      "1420\n",
      "1430\n",
      "1440\n",
      "1450\n",
      "1460\n",
      "1470\n",
      "1480\n",
      "1490\n",
      "1500\n",
      "1510\n",
      "1520\n",
      "1530\n",
      "1540\n",
      "1550\n",
      "1560\n",
      "1570\n",
      "1580\n",
      "1590\n",
      "1600\n",
      "1610\n",
      "1620\n",
      "1630\n",
      "1640\n",
      "1650\n",
      "1660\n",
      "1670\n",
      "1680\n",
      "1690\n",
      "1700\n",
      "1710\n",
      "1720\n",
      "1730\n",
      "1740\n",
      "1750\n",
      "1760\n",
      "1770\n",
      "1780\n",
      "1790\n",
      "1800\n",
      "1810\n",
      "1820\n",
      "1830\n",
      "1840\n",
      "1850\n",
      "1860\n",
      "1870\n",
      "1880\n",
      "1890\n",
      "1900\n",
      "1910\n",
      "1920\n",
      "1930\n",
      "1940\n",
      "1950\n",
      "1960\n",
      "1970\n",
      "1980\n",
      "1990\n",
      "2000\n",
      "2010\n",
      "2020\n",
      "2030\n",
      "2040\n",
      "2050\n",
      "2060\n",
      "2070\n",
      "2080\n",
      "2090\n",
      "2100\n",
      "2110\n",
      "2120\n",
      "2130\n",
      "2140\n",
      "2150\n",
      "2160\n",
      "2170\n",
      "2180\n",
      "2190\n",
      "2200\n",
      "2210\n",
      "2220\n",
      "2230\n",
      "2240\n",
      "2250\n",
      "2260\n",
      "2270\n",
      "2280\n",
      "2290\n",
      "2300\n",
      "2310\n",
      "2320\n",
      "2330\n",
      "2340\n",
      "2350\n",
      "2360\n",
      "2370\n",
      "2380\n",
      "2390\n",
      "2400\n",
      "2410\n",
      "2420\n",
      "2430\n",
      "2440\n",
      "2450\n",
      "2460\n",
      "2470\n",
      "2480\n",
      "2490\n",
      "2500\n",
      "2510\n",
      "2520\n",
      "2530\n",
      "2540\n",
      "2550\n",
      "2560\n",
      "2570\n",
      "2580\n",
      "2590\n",
      "2600\n",
      "2610\n",
      "2620\n",
      "2630\n",
      "2640\n",
      "2650\n",
      "2660\n",
      "2670\n",
      "2680\n",
      "2690\n",
      "2700\n",
      "2710\n",
      "2720\n",
      "2730\n",
      "2740\n",
      "2750\n",
      "2760\n",
      "2770\n",
      "2780\n",
      "2790\n",
      "2800\n",
      "2810\n",
      "2820\n",
      "2830\n",
      "2840\n",
      "2850\n",
      "2860\n",
      "2870\n",
      "2880\n",
      "2890\n",
      "2900\n",
      "2910\n",
      "2920\n",
      "2930\n",
      "2940\n",
      "2950\n",
      "2960\n",
      "2970\n",
      "2980\n",
      "2990\n",
      "3000\n",
      "3010\n",
      "3020\n",
      "3030\n",
      "3040\n",
      "3050\n",
      "3060\n",
      "3070\n",
      "3080\n",
      "3090\n",
      "3100\n",
      "3110\n",
      "3120\n",
      "3130\n",
      "3140\n",
      "3150\n",
      "3160\n",
      "3170\n",
      "3180\n",
      "3190\n",
      "3200\n",
      "3210\n",
      "3220\n",
      "3230\n",
      "3240\n",
      "3250\n",
      "3260\n",
      "3270\n",
      "3280\n",
      "3290\n",
      "3300\n",
      "3310\n",
      "3320\n",
      "3330\n",
      "3340\n",
      "3350\n",
      "3360\n",
      "3370\n",
      "3380\n",
      "3390\n",
      "3400\n",
      "3410\n",
      "3420\n",
      "3430\n",
      "3440\n",
      "3450\n",
      "3460\n",
      "3470\n",
      "3480\n",
      "3490\n",
      "3500\n",
      "3510\n",
      "3520\n",
      "3530\n",
      "3540\n",
      "3550\n",
      "3560\n",
      "3570\n",
      "3580\n",
      "3590\n",
      "3600\n",
      "3610\n",
      "3620\n",
      "3630\n",
      "3640\n",
      "3650\n",
      "3660\n",
      "3670\n",
      "3680\n",
      "3690\n",
      "3700\n",
      "3710\n",
      "3720\n",
      "3730\n",
      "3740\n",
      "3750\n",
      "3760\n",
      "3770\n",
      "3780\n",
      "3790\n",
      "3800\n",
      "3810\n",
      "3820\n",
      "3830\n",
      "3840\n",
      "3850\n",
      "3860\n",
      "3870\n",
      "3880\n",
      "3890\n",
      "3900\n",
      "3910\n",
      "3920\n",
      "3930\n",
      "3940\n",
      "3950\n",
      "3960\n",
      "3970\n",
      "3980\n",
      "3990\n",
      "4000\n",
      "4010\n",
      "4020\n",
      "4030\n",
      "4040\n",
      "4050\n",
      "4060\n",
      "4070\n",
      "4080\n",
      "4090\n",
      "4100\n",
      "4110\n",
      "4120\n",
      "4130\n",
      "4140\n",
      "4150\n",
      "4160\n",
      "4170\n",
      "4180\n",
      "4190\n",
      "4200\n",
      "4210\n",
      "4220\n",
      "4230\n",
      "4240\n",
      "4250\n",
      "4260\n",
      "4270\n",
      "4280\n",
      "4290\n",
      "4300\n",
      "4310\n",
      "4320\n",
      "4330\n",
      "4340\n",
      "4350\n",
      "4360\n",
      "4370\n",
      "4380\n",
      "4390\n",
      "4400\n",
      "4410\n",
      "4420\n",
      "4430\n",
      "4440\n",
      "4450\n",
      "4460\n",
      "4470\n",
      "4480\n",
      "4490\n",
      "4500\n",
      "4510\n",
      "4520\n",
      "4530\n",
      "4540\n",
      "4550\n",
      "4560\n",
      "4570\n",
      "4580\n",
      "4590\n",
      "4600\n",
      "4610\n",
      "4620\n",
      "4630\n",
      "4640\n",
      "4650\n",
      "4660\n",
      "4670\n",
      "4680\n",
      "4690\n",
      "4700\n",
      "4710\n",
      "4720\n",
      "4730\n",
      "4740\n",
      "4750\n",
      "4760\n",
      "4770\n",
      "4780\n",
      "4790\n",
      "4800\n",
      "4810\n",
      "4820\n",
      "4830\n",
      "4840\n",
      "4850\n",
      "4860\n",
      "4870\n",
      "4880\n",
      "4890\n",
      "4900\n",
      "4910\n",
      "4920\n",
      "4930\n",
      "4940\n",
      "4950\n",
      "4960\n",
      "4970\n",
      "4980\n",
      "4990\n",
      "5000\n",
      "5010\n",
      "5020\n",
      "5030\n",
      "5040\n",
      "5050\n",
      "5060\n",
      "5070\n",
      "5080\n",
      "5090\n",
      "5100\n",
      "5110\n",
      "5120\n",
      "5130\n",
      "5140\n",
      "5150\n",
      "5160\n",
      "5170\n",
      "5180\n",
      "5190\n",
      "5200\n",
      "5210\n",
      "5220\n",
      "5230\n",
      "5240\n",
      "5250\n",
      "5260\n",
      "5270\n",
      "5280\n",
      "5290\n",
      "5300\n",
      "5310\n",
      "5320\n",
      "5330\n",
      "5340\n",
      "5350\n",
      "5360\n",
      "5370\n",
      "5380\n",
      "5390\n",
      "5400\n",
      "5410\n",
      "5420\n",
      "5430\n",
      "5440\n",
      "5450\n",
      "5460\n",
      "5470\n",
      "5480\n",
      "5490\n",
      "5500\n",
      "5510\n",
      "5520\n",
      "5530\n",
      "5540\n",
      "5550\n",
      "5560\n",
      "5570\n",
      "5580\n",
      "5590\n",
      "5600\n",
      "5610\n",
      "5620\n",
      "5630\n",
      "5640\n",
      "5650\n",
      "5660\n",
      "5670\n",
      "5680\n",
      "5690\n",
      "5700\n",
      "5710\n",
      "5720\n",
      "5730\n",
      "5740\n",
      "5750\n",
      "5760\n",
      "5770\n",
      "5780\n",
      "5790\n",
      "5800\n",
      "5810\n",
      "5820\n",
      "5830\n",
      "5840\n",
      "5850\n",
      "5860\n",
      "5870\n",
      "5880\n",
      "5890\n",
      "5900\n",
      "5910\n",
      "5920\n",
      "5930\n",
      "5940\n",
      "5950\n",
      "5960\n",
      "5970\n",
      "5980\n",
      "5990\n",
      "6000\n",
      "6010\n",
      "6020\n",
      "6030\n",
      "6040\n",
      "6050\n",
      "6060\n",
      "6070\n",
      "6080\n",
      "6090\n",
      "6100\n",
      "6110\n",
      "6120\n",
      "6130\n",
      "6140\n",
      "6150\n",
      "6160\n",
      "6170\n",
      "6180\n",
      "6190\n",
      "6200\n",
      "6210\n",
      "6220\n",
      "6230\n",
      "6240\n",
      "6250\n",
      "6260\n",
      "6270\n",
      "6280\n",
      "6290\n",
      "6300\n",
      "6310\n",
      "6320\n",
      "6330\n",
      "6340\n",
      "6350\n",
      "6360\n",
      "6370\n",
      "6380\n",
      "6390\n"
     ]
    }
   ],
   "source": [
    "phasecov_cal = torch.zeros(((size - 2*w)**2,(size - 2*w)**2))\n",
    "for i in range(6391):\n",
    "  a = delphase[:,i].view((size - 2*w)**2,-1)\n",
    "  phasecov_cal += torch.matmul(a,a.T)/(6390)\n",
    "\n",
    "  if (i+1)%10 == 0:\n",
    "    print(i+1)\n"
   ]
  },
  {
   "cell_type": "markdown",
   "metadata": {},
   "source": [
    "### For 3446 & 1722 ###"
   ]
  },
  {
   "cell_type": "code",
   "execution_count": 61,
   "metadata": {},
   "outputs": [],
   "source": [
    "magmean = torch.mean(magall,dim = 1).view(-1,1)"
   ]
  },
  {
   "cell_type": "code",
   "execution_count": 67,
   "metadata": {},
   "outputs": [
    {
     "data": {
      "text/plain": [
       "<matplotlib.colorbar.Colorbar at 0x2abc4a89cfa0>"
      ]
     },
     "execution_count": 67,
     "metadata": {},
     "output_type": "execute_result"
    },
    {
     "data": {
      "image/png": "[encoded data removed]",
      "text/plain": [
       "<Figure size 432x288 with 2 Axes>"
      ]
     },
     "metadata": {
      "needs_background": "light"
     },
     "output_type": "display_data"
    }
   ],
   "source": [
    "plt.imshow((magmean/magmean_n).reshape(160,160))\n",
    "plt.colorbar()"
   ]
  },
  {
   "cell_type": "code",
   "execution_count": 9,
   "metadata": {},
   "outputs": [],
   "source": [
    "magmean = torch.load('./brain_stats/mag_mean_6822.pt')\n",
    "realall = torch.load('./brain_stats/real_all_6822.pt')\n",
    "imagall = torch.load('./brain_stats/imag_all_6822.pt')\n",
    "\n",
    "realall_nor = torch.cov((realall/magmean.view(-1,1)))\n",
    "imagall_nor = torch.cov((imagall/magmean.view(-1,1)))\n",
    "\n",
    "torch.save(realall_nor,'./brain_stats/real_cov_6822_nor.pt')\n",
    "torch.save(imagall_nor,'./brain_stats/imag_cov_6822_nor.pt')"
   ]
  },
  {
   "cell_type": "code",
   "execution_count": 2,
   "metadata": {},
   "outputs": [
    {
     "name": "stdout",
     "output_type": "stream",
     "text": [
      "torch.Size([25600, 6822])\n"
     ]
    }
   ],
   "source": [
    "magall = torch.load('./brain_stats/mag_all_6822.pt')\n",
    "print(magall.shape)"
   ]
  },
  {
   "cell_type": "code",
   "execution_count": 2,
   "metadata": {},
   "outputs": [
    {
     "name": "stdout",
     "output_type": "stream",
     "text": [
      "torch.Size([25600, 25600])\n"
     ]
    }
   ],
   "source": [
    "realall = torch.load('./brain_stats/real_all_6822.pt')\n",
    "imagall = torch.load('./brain_stats/imag_all_6822.pt')\n",
    "magall = torch.load('./brain_stats/mag_all_6822.pt')\n",
    "\n",
    "n = 431\n",
    "ind = np.linspace(0,6390,6391,dtype = int)[:n]\n",
    "\n",
    "realall_n = realall[:,ind]\n",
    "imagall_n = imagall[:,ind]\n",
    "magall_n = magall[:,ind]\n",
    "\n",
    "magmean_n = torch.mean(magall_n,dim = 1).view(-1,1)\n",
    "\n",
    "torch.save(realall_n,'./brain_stats/real_all_'+str(n)+'.pt')\n",
    "torch.save(imagall_n,'./brain_stats/imag_all_'+str(n)+'.pt')\n",
    "torch.save(magall_n,'./brain_stats/mag_all_'+str(n)+'.pt')\n",
    "\n",
    "realall_nor = torch.cov((realall_n/magmean_n.view(-1,1)))\n",
    "imagall_nor = torch.cov((imagall_n/magmean_n.view(-1,1)))\n",
    "print(realall_nor.size())\n",
    "\n",
    "torch.save(realall_nor,'./brain_stats/real_cov_'+str(n)+'_nor.pt')\n",
    "torch.save(imagall_nor,'./brain_stats/imag_cov_'+str(n)+'_nor.pt')"
   ]
  },
  {
   "cell_type": "code",
   "execution_count": 6,
   "metadata": {},
   "outputs": [],
   "source": [
    "for i in [431]: \n",
    "    realall = torch.load('./brain_stats/real_all_'+str(i)+'.pt')\n",
    "    imagall = torch.load('./brain_stats/imag_all_'+str(i)+'.pt')\n",
    "    \n",
    "    torch.save(torch.mean(realall,axis = 1),'./brain_stats/train_realmean_'+str(i)+'.pt')\n",
    "    torch.save(torch.mean(imagall,axis = 1),'./brain_stats/train_imagmean_'+str(i)+'.pt')\n",
    "    magall = torch.load('./brain_stats/mag_all_' + str(i) + '.pt')\n",
    "    torch.save(torch.mean(magall,axis = 1),'./brain_stats/train_magmean_'+str(i)+'.pt')"
   ]
  }
 ],
 "metadata": {
  "accelerator": "GPU",
  "colab": {
   "authorship_tag": "ABX9TyM53PvLvr/nh/KG9kMCk0Pk",
   "background_execution": "on",
   "mount_file_id": "1P_fLosGVT_ZzUBg_GfzptC9IkgY29HjE",
   "provenance": []
  },
  "gpuClass": "standard",
  "kernelspec": {
   "display_name": "Python 3",
   "language": "python",
   "name": "python3"
  },
  "language_info": {
   "codemirror_mode": {
    "name": "ipython",
    "version": 3
   },
   "file_extension": ".py",
   "mimetype": "text/x-python",
   "name": "python",
   "nbconvert_exporter": "python",
   "pygments_lexer": "ipython3",
   "version": "3.8.10"
  }
 },
 "nbformat": 4,
 "nbformat_minor": 1
}
